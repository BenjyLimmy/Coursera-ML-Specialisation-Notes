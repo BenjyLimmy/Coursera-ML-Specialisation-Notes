{
 "cells": [
  {
   "cell_type": "markdown",
   "id": "e7a08c63",
   "metadata": {},
   "source": [
    "## Recommender Systems"
   ]
  },
  {
   "cell_type": "markdown",
   "id": "8769ab9c",
   "metadata": {},
   "source": [
    "Notation:\n",
    "Eg: Predicting movie ratings\n",
    "- $n_u = \\text{no. of users}$\n",
    "- $n_m = \\text{no. of movies}$\n",
    "- $r_{(i,j)} = \\text{1 if user $j$ has rated movie $i$}$\n",
    "- $y^{(i,j)} = \\text{rating given by user $j$ to movie $i$ defined only if $r(i,j) = 1$}$\n",
    "- $n = \\text{no. of features}$\n",
    "- $w^{(j)}, b^{(j)} = \\text{parameters for user $j$}$\n",
    "- $x^{(i)} = \\text{feature vector for movie $i$}$\n"
   ]
  },
  {
   "cell_type": "markdown",
   "id": "92711150",
   "metadata": {},
   "source": [
    "## 1. Collaborative Filtering"
   ]
  },
  {
   "cell_type": "markdown",
   "id": "453ff4b3",
   "metadata": {},
   "source": [
    "- If we have features of the movie:\n",
    "- $n = \\text{no. of features}$\n",
    "\n",
    "<img  src=\"./images/Wk9_1.png\"  style=\" width:70%; padding: 10px 20px ; \">    "
   ]
  },
  {
   "cell_type": "markdown",
   "id": "004f0e0c",
   "metadata": {},
   "source": [
    "### 1A. Cost function\n",
    "\n",
    "For user $j$ and movie $i$, predict rating: $w^{(j)} \\centerdot x^{(i)} + b^{(j)}$  \n",
    "$m^{(j)} = \\text{no. of movies rated by user $j$}$  \n",
    "\n",
    "\n",
    "To learn $w^{(j)}, b^{(j)}$\n",
    "\n",
    "<img  src=\"./images/Wk9_2.png\"  style=\" width:70%; padding: 10px 20px ; \">    \n"
   ]
  },
  {
   "cell_type": "markdown",
   "id": "0b124c5b",
   "metadata": {},
   "source": [
    "### 1B. Collaborative Filtering Algorithm"
   ]
  },
  {
   "cell_type": "markdown",
   "id": "c0754bf6",
   "metadata": {},
   "source": [
    "- What if we didn't have $x_1,x_2$?\n",
    "<img  src=\"./images/Wk9_3.png\"  style=\" width:70%; padding: 10px 20px ; \">    "
   ]
  },
  {
   "attachments": {},
   "cell_type": "markdown",
   "id": "93af74ba",
   "metadata": {},
   "source": [
    "Thus, we need to learn the feature vector by minimising the cost function as function of $x_i$\n",
    "<img  src=\"./images/Wk9_4.png\"  style=\" width:70%; padding: 10px 20px ; \">    "
   ]
  },
  {
   "cell_type": "markdown",
   "id": "f3cd4b7f",
   "metadata": {},
   "source": [
    " "
   ]
  },
  {
   "cell_type": "code",
   "execution_count": null,
   "id": "692b00a4",
   "metadata": {},
   "outputs": [],
   "source": []
  }
 ],
 "metadata": {
  "kernelspec": {
   "display_name": "Python 3 (ipykernel)",
   "language": "python",
   "name": "python3"
  },
  "language_info": {
   "codemirror_mode": {
    "name": "ipython",
    "version": 3
   },
   "file_extension": ".py",
   "mimetype": "text/x-python",
   "name": "python",
   "nbconvert_exporter": "python",
   "pygments_lexer": "ipython3",
   "version": "3.9.13"
  }
 },
 "nbformat": 4,
 "nbformat_minor": 5
}
